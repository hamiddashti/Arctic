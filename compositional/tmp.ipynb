{
 "cells": [
  {
   "cell_type": "code",
   "execution_count": 3,
   "metadata": {},
   "outputs": [],
   "source": [
    "import xarray as xr\n",
    "import numpy as np\n",
    "import matplotlib.pylab as plt\n",
    "\n",
    "in_dir = \"/data/home/hamiddashti/mnt/nasa_above/working/modis_analyses/test/\"\n",
    "out_dir = \"/data/home/hamiddashti/mnt/nasa_above/working/modis_analyses/test/\""
   ]
  },
  {
   "cell_type": "code",
   "execution_count": 5,
   "metadata": {},
   "outputs": [],
   "source": [
    "data = xr.open_dataset(in_dir + \"data.nc\")\n",
    "x_raw = data[\"lc_2003_2013\"].sel(year=2003)\n",
    "y_raw = data[\"lst_2003_2013\"].sel(year=2003)"
   ]
  },
  {
   "cell_type": "markdown",
   "metadata": {},
   "source": [
    "### Some initial plots and diagnostics"
   ]
  },
  {
   "cell_type": "code",
   "execution_count": 8,
   "metadata": {},
   "outputs": [
    {
     "data": {
      "image/png": "[encoded data removed]",
      "text/plain": [
       "<Figure size 432x288 with 1 Axes>"
      ]
     },
     "metadata": {
      "needs_background": "light"
     },
     "output_type": "display_data"
    }
   ],
   "source": [
    "plt.close()\n",
    "plt."
   ]
  },
  {
   "cell_type": "markdown",
   "metadata": {},
   "source": [
    "Is the dataset balanced? "
   ]
  },
  {
   "cell_type": "code",
   "execution_count": 24,
   "metadata": {},
   "outputs": [
    {
     "name": "stdout",
     "output_type": "stream",
     "text": [
      "number of zeros in each class: [9792 7594 9621 6290 5598 3626 9437 2223 5892 5015]\n"
     ]
    }
   ],
   "source": [
    "non_zeros = x_raw.where(x_raw!=0)\n",
    "print(f\"number of zeros in each class: {non_zeros.count('obs').values}\") \n"
   ]
  },
  {
   "cell_type": "code",
   "execution_count": 21,
   "metadata": {},
   "outputs": [
    {
     "data": {
      "text/plain": [
       "array([9792, 7594, 9621, 6290, 5598, 3626, 9437, 2223, 5892, 5015])"
      ]
     },
     "execution_count": 21,
     "metadata": {},
     "output_type": "execute_result"
    }
   ],
   "source": []
  },
  {
   "cell_type": "code",
   "execution_count": null,
   "metadata": {},
   "outputs": [],
   "source": []
  }
 ],
 "metadata": {
  "interpreter": {
   "hash": "be1200267def26a5c2ca7e56eae4458b75b9485fc42d22e84319b00455e444c1"
  },
  "kernelspec": {
   "display_name": "Python 3.8.10 64-bit ('conda_env': conda)",
   "name": "python3"
  },
  "language_info": {
   "codemirror_mode": {
    "name": "ipython",
    "version": 3
   },
   "file_extension": ".py",
   "mimetype": "text/x-python",
   "name": "python",
   "nbconvert_exporter": "python",
   "pygments_lexer": "ipython3",
   "version": "3.8.10"
  },
  "orig_nbformat": 4
 },
 "nbformat": 4,
 "nbformat_minor": 2
}
