{
 "cells": [
  {
   "cell_type": "code",
   "execution_count": 1,
   "metadata": {},
   "outputs": [],
   "source": [
    "# This script calculate the confusion table and associated LST, ET and albedo\n",
    "# and save it in a netcdf file\n",
    "\n",
    "import numpy as np\n",
    "import rasterio\n",
    "import fiona\n",
    "import pandas as pd\n",
    "import xarray as xr\n",
    "from rasterio import features\n",
    "from rasterio.mask import mask\n",
    "import dask\n",
    "from dask.diagnostics import ProgressBar\n",
    "from xarray.core.duck_array_ops import count\n",
    "\n",
    "\n",
    "def mymask(tif, shp):\n",
    "    # To mask landsat LUC pixels included in each MODIS pixel\n",
    "    out_image, out_transform = rasterio.mask.mask(tif,\n",
    "                                                  shp,\n",
    "                                                  all_touched=False,\n",
    "                                                  crop=True)\n",
    "    # out_meta = tif.meta\n",
    "    # return out_image,out_meta,out_transform\n",
    "    return out_image, out_transform\n",
    "\n",
    "\n",
    "def confusionmatrix(actual, predicted, unique, imap):\n",
    "    \"\"\"\n",
    "    Generate a confusion matrix for multiple classification\n",
    "    @params:\n",
    "        actual      - a list of integers or strings for known classes\n",
    "        predicted   - a list of integers or strings for predicted classes\n",
    "        # normalize   - optional boolean for matrix normalization\n",
    "        unique\t\t- is the unique numbers assigned to each class\n",
    "        imap\t\t- mapping of classes \n",
    "\n",
    "    @return:\n",
    "        matrix      - a 2-dimensional list of pairwise counts\n",
    "    \"\"\"\n",
    "\n",
    "    matrix = [[0 for _ in unique] for _ in unique]\n",
    "    # Generate Confusion Matrix\n",
    "    for p, a in list(zip(actual, predicted)):\n",
    "        if ((p > len(unique)) or (a > len(unique))):\n",
    "            continue\n",
    "        matrix[imap[p]][imap[a]] += 1\n",
    "    # Matrix Normalization\n",
    "    # if normalize:\n",
    "    sigma = sum([sum(matrix[imap[i]]) for i in unique])\n",
    "    matrix_normalized = [\n",
    "        row for row in map(lambda i: list(map(lambda j: j / sigma, i)), matrix)\n",
    "    ]\n",
    "    return matrix, matrix_normalized\n",
    "\n",
    "\n",
    "NUMBER_OF_CLASSES = 10  #[DF,DF,shrub,herb,sparse,wetland, water]\n",
    "class_names = [\n",
    "    \"EF\", \"DF\", \"Shrub\", \"Herb\", \"Sparse\", \"Barren\", \"Fen\", \"Bog\", \"SL\",\n",
    "    \"water\"\n",
    "]\n",
    "conversion_type = []\n",
    "for i in range(0, NUMBER_OF_CLASSES):\n",
    "    for j in range(0, NUMBER_OF_CLASSES):\n",
    "        # if (i==j):\n",
    "        # \tcontinue\n",
    "        tmp = class_names[i] + \"_\" + class_names[j]\n",
    "        conversion_type.append(tmp)\n",
    "\n",
    "in_dir = \"/data/ABOVE/Final_data/\"\n",
    "out_dir = (\"/data/home/hamiddashti/mnt/nasa_above/working/modis_analyses/test/\")\n",
    "\n",
    "luc2003 = rasterio.open(in_dir + 'LUC/geographic/LUC_10/mosaic_reproject_2003.tif')\n",
    "luc2013 = rasterio.open(in_dir + 'LUC/geographic/LUC_10/mosaic_reproject_2013.tif')\n",
    "\n",
    "changed_pixels_mask = xr.open_dataarray(\n",
    "    '/data/home/hamiddashti/nasa_above/outputs/Natural_Variability/'\n",
    "    'Natural_Variability_Annual_outputs/geographic/changed_pixels.nc')\n",
    "    "
   ]
  },
  {
   "cell_type": "code",
   "execution_count": 2,
   "metadata": {},
   "outputs": [
    {
     "data": {
      "text/plain": [
       "<matplotlib.collections.QuadMesh at 0x7f99b69a36a0>"
      ]
     },
     "execution_count": 2,
     "metadata": {},
     "output_type": "execute_result"
    },
    {
     "data": {
      "image/png": "[encoded data removed]",
      "text/plain": [
       "<Figure size 432x288 with 2 Axes>"
      ]
     },
     "metadata": {
      "needs_background": "light"
     },
     "output_type": "display_data"
    }
   ],
   "source": [
    "changed_pixels_mask.where((changed_pixels_mask.lat>64)&(changed_pixels_mask.lat<65)).plot()"
   ]
  }
 ],
 "metadata": {
  "interpreter": {
   "hash": "be1200267def26a5c2ca7e56eae4458b75b9485fc42d22e84319b00455e444c1"
  },
  "kernelspec": {
   "display_name": "Python 3.8.10 ('conda_env')",
   "language": "python",
   "name": "python3"
  },
  "language_info": {
   "codemirror_mode": {
    "name": "ipython",
    "version": 3
   },
   "file_extension": ".py",
   "mimetype": "text/x-python",
   "name": "python",
   "nbconvert_exporter": "python",
   "pygments_lexer": "ipython3",
   "version": "3.8.10"
  },
  "orig_nbformat": 4
 },
 "nbformat": 4,
 "nbformat_minor": 2
}
