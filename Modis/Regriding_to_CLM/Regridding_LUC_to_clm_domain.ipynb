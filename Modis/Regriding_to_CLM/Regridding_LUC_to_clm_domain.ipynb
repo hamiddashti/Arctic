{
 "cells": [
  {
   "cell_type": "code",
   "execution_count": 57,
   "metadata": {},
   "outputs": [],
   "source": [
    "import xarray as xr\n",
    "import matplotlib.pylab as plt\n",
    "import numpy as np\n",
    "import xesmf as xe\n",
    "from dask.diagnostics import ProgressBar\n",
    "import matplotlib.pylab as plt\n",
    "import glob\n",
    "from dask.distributed import Client, LocalCluster\n",
    "import rioxarray"
   ]
  },
  {
   "cell_type": "code",
   "execution_count": 58,
   "metadata": {},
   "outputs": [],
   "source": [
    "in_dir = \"/data/ABOVE/Final_data/LUC/geographic/\"\n",
    "clm_dir = (\"/data/ABOVE/MODIS/LAI_CLM_DOMAIN/\")"
   ]
  },
  {
   "cell_type": "code",
   "execution_count": 61,
   "metadata": {},
   "outputs": [],
   "source": [
    "clm_image = xr.open_dataset(clm_dir+\"freeCLM5.1forILAMB.nc\",decode_coords=\"all\")\n",
    "clm_image = clm_image[\"TLAI\"].isel(time=1)\n"
   ]
  },
  {
   "cell_type": "code",
   "execution_count": 43,
   "metadata": {},
   "outputs": [],
   "source": [
    "luc = xr.open_dataarray(in_dir+\"LULC_2003_2014.nc\",decode_coords=\"all\")\n",
    "luc = luc.rename({\"x\":\"lon\",\"y\":\"lat\"})"
   ]
  },
  {
   "cell_type": "code",
   "execution_count": 44,
   "metadata": {},
   "outputs": [],
   "source": [
    "ds_out = xr.Dataset({\n",
    "    'lat': (['lat'], clm_image['lat'].values),\n",
    "    'lon': (['lon'], clm_image['lon'].values)\n",
    "})\n",
    "ds_in = xr.Dataset({\n",
    "    'lat': (['lat'], luc['lat'].values),\n",
    "    'lon': (['lon'], luc['lon'].values)\n",
    "})"
   ]
  },
  {
   "cell_type": "code",
   "execution_count": 47,
   "metadata": {},
   "outputs": [],
   "source": [
    "regridder = xe.Regridder(ds_in, ds_out, 'bilinear')\n",
    "# regridder.to_netcdf(out_dir+\"regridder_luc_entire_clm_domain.nc\")"
   ]
  },
  {
   "cell_type": "code",
   "execution_count": 48,
   "metadata": {},
   "outputs": [
    {
     "name": "stderr",
     "output_type": "stream",
     "text": [
      "/data/home/hamiddashti/miniconda3/envs/conda_env/lib/python3.8/site-packages/xesmf/frontend.py:466: FutureWarning: ``output_sizes`` should be given in the ``dask_gufunc_kwargs`` parameter. It will be removed as direct parameter in a future version.\n",
      "  dr_out = xr.apply_ufunc(\n"
     ]
    }
   ],
   "source": [
    "luc_regrided = regridder(luc)"
   ]
  },
  {
   "cell_type": "code",
   "execution_count": 56,
   "metadata": {},
   "outputs": [],
   "source": [
    "luc_regrided.to_netcdf(clm_dir+\"/processed/LUC_regridded_clm.nc\")\n",
    "# albedo.isel(time=1).to_netcdf(out_dir+\"test4.nc\")"
   ]
  }
 ],
 "metadata": {
  "interpreter": {
   "hash": "be1200267def26a5c2ca7e56eae4458b75b9485fc42d22e84319b00455e444c1"
  },
  "kernelspec": {
   "display_name": "Python 3.8.10 ('conda_env')",
   "language": "python",
   "name": "python3"
  },
  "language_info": {
   "codemirror_mode": {
    "name": "ipython",
    "version": 3
   },
   "file_extension": ".py",
   "mimetype": "text/x-python",
   "name": "python",
   "nbconvert_exporter": "python",
   "pygments_lexer": "ipython3",
   "version": "3.8.10"
  },
  "orig_nbformat": 4
 },
 "nbformat": 4,
 "nbformat_minor": 2
}
