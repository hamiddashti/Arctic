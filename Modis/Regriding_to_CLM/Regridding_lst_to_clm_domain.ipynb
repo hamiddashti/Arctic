{
 "cells": [
  {
   "cell_type": "code",
   "execution_count": 17,
   "metadata": {},
   "outputs": [],
   "source": [
    "import xarray as xr\n",
    "import matplotlib.pylab as plt\n",
    "import xesmf as xe\n",
    "import geopandas \n",
    "import rioxarray"
   ]
  },
  {
   "cell_type": "code",
   "execution_count": 19,
   "metadata": {},
   "outputs": [],
   "source": [
    "in_dir = \"/data/ABOVE/MODIS/LAI_CLM_DOMAIN/\"\n",
    "out_dir = (\"/data/ABOVE/MODIS/LAI_CLM_DOMAIN/processed/\")"
   ]
  },
  {
   "cell_type": "code",
   "execution_count": 20,
   "metadata": {},
   "outputs": [],
   "source": [
    "clm_image = xr.open_dataset(in_dir+\"freeCLM5.1forILAMB.nc\")\n",
    "clm_image = clm_image[\"TLAI\"].isel(time=1)\n"
   ]
  },
  {
   "cell_type": "code",
   "execution_count": 21,
   "metadata": {},
   "outputs": [],
   "source": [
    "lst = xr.open_dataarray(\"/data/ABOVE/Final_data/LST_Final/LST/Annual_Mean/geographic/lst_mean_annual.nc\")\n",
    "# albedo = albedo.rename({\"x\":\"lon\",\"y\":\"lat\"})"
   ]
  },
  {
   "cell_type": "code",
   "execution_count": 22,
   "metadata": {},
   "outputs": [],
   "source": [
    "ds_out = xr.Dataset({\n",
    "    'lat': (['lat'], clm_image['lat'].values),\n",
    "    'lon': (['lon'], clm_image['lon'].values)\n",
    "})\n",
    "ds_in = xr.Dataset({\n",
    "    'lat': (['lat'], lst['lat'].values),\n",
    "    'lon': (['lon'], lst['lon'].values)\n",
    "})"
   ]
  },
  {
   "cell_type": "code",
   "execution_count": 8,
   "metadata": {},
   "outputs": [],
   "source": [
    "regridder = xe.Regridder(ds_in, ds_out, 'bilinear')\n",
    "# regridder.to_netcdf(out_dir+\"regridder_albedo_entire_clm_domain.nc\")"
   ]
  },
  {
   "cell_type": "code",
   "execution_count": 23,
   "metadata": {},
   "outputs": [
    {
     "name": "stderr",
     "output_type": "stream",
     "text": [
      "/data/home/hamiddashti/miniconda3/envs/conda_env/lib/python3.8/site-packages/xesmf/frontend.py:466: FutureWarning: ``output_sizes`` should be given in the ``dask_gufunc_kwargs`` parameter. It will be removed as direct parameter in a future version.\n",
      "  dr_out = xr.apply_ufunc(\n"
     ]
    }
   ],
   "source": [
    "lst_regrided = regridder(lst)"
   ]
  },
  {
   "cell_type": "code",
   "execution_count": 25,
   "metadata": {},
   "outputs": [],
   "source": [
    "lst_regrided = lst_regrided.rio.write_crs(4326)\n",
    "lst_regrided = lst_regrided.rename({\"lon\":\"x\",\"lat\":\"y\"})\n",
    "geodf = geopandas.read_file(\"/data/ABOVE/Final_data/shp_files/CoreDomain_geographic.shp\")\n",
    "clipped = lst_regrided.rio.clip(geodf.geometry.values, geodf.crs)"
   ]
  },
  {
   "cell_type": "code",
   "execution_count": 27,
   "metadata": {},
   "outputs": [],
   "source": [
    "clipped.to_netcdf(out_dir+\"lst_mean_annual.nc\")\n"
   ]
  }
 ],
 "metadata": {
  "interpreter": {
   "hash": "be1200267def26a5c2ca7e56eae4458b75b9485fc42d22e84319b00455e444c1"
  },
  "kernelspec": {
   "display_name": "Python 3.8.10 ('conda_env')",
   "language": "python",
   "name": "python3"
  },
  "language_info": {
   "codemirror_mode": {
    "name": "ipython",
    "version": 3
   },
   "file_extension": ".py",
   "mimetype": "text/x-python",
   "name": "python",
   "nbconvert_exporter": "python",
   "pygments_lexer": "ipython3",
   "version": "3.8.10"
  },
  "orig_nbformat": 4
 },
 "nbformat": 4,
 "nbformat_minor": 2
}
